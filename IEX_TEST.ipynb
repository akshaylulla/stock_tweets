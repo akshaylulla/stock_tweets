{
 "cells": [
  {
   "cell_type": "code",
   "execution_count": 19,
   "metadata": {},
   "outputs": [],
   "source": [
    "from iexfinance.stocks import Stock"
   ]
  },
  {
   "cell_type": "code",
   "execution_count": 20,
   "metadata": {},
   "outputs": [],
   "source": [
    "import numpy as np"
   ]
  },
  {
   "cell_type": "code",
   "execution_count": 27,
   "metadata": {},
   "outputs": [],
   "source": [
    "from iexfinance.stocks import get_historical_data"
   ]
  },
  {
   "cell_type": "code",
   "execution_count": 28,
   "metadata": {},
   "outputs": [],
   "source": [
    "import request"
   ]
  },
  {
   "cell_type": "code",
   "execution_count": 32,
   "metadata": {},
   "outputs": [],
   "source": [
    "import pandas as pd\n",
    "import os"
   ]
  },
  {
   "cell_type": "code",
   "execution_count": 45,
   "metadata": {
    "scrolled": true
   },
   "outputs": [
    {
     "name": "stdout",
     "output_type": "stream",
     "text": [
      "<iexfinance.stocks.base.Stock object at 0x112cae970>\n",
      "{'symbol': 'M', 'companyName': \"Macy's, Inc.\", 'primaryExchange': 'New York Stock Exchange', 'calculationPrice': 'close', 'open': 8.54, 'openTime': 1591795800914, 'openSource': 'official', 'close': 7.94, 'closeTime': 1591819201957, 'closeSource': 'official', 'high': 8.585, 'highTime': 1591833590906, 'highSource': '15 minute delayed price', 'low': 7.8, 'lowTime': 1591798937490, 'lowSource': '15 minute delayed price', 'latestPrice': 7.94, 'latestSource': 'Close', 'latestTime': 'June 10, 2020', 'latestUpdate': 1591819201957, 'latestVolume': 74256597, 'iexRealtimePrice': 7.935, 'iexRealtimeSize': 5, 'iexLastUpdated': 1591819198427, 'delayedPrice': 7.8, 'delayedPriceTime': 1591833590906, 'oddLotDelayedPrice': 7.93, 'oddLotDelayedPriceTime': 1591819196008, 'extendedPrice': 7.8, 'extendedChange': -0.14, 'extendedChangePercent': -0.01763, 'extendedPriceTime': 1591833590374, 'previousClose': 8.87, 'previousVolume': 133196423, 'change': -0.93, 'changePercent': -0.10485, 'volume': 74256597, 'iexMarketPercent': 0.022237429726994495, 'iexVolume': 1636764, 'avgTotalVolume': 50067715, 'iexBidPrice': 0, 'iexBidSize': 0, 'iexAskPrice': 0, 'iexAskSize': 0, 'iexOpen': None, 'iexOpenTime': None, 'iexClose': 7.935, 'iexCloseTime': 1591819198427, 'marketCap': 2458779800, 'peRatio': None, 'week52High': 23.4, 'week52Low': 4.38, 'ytdChange': -0.567925, 'lastTradeTime': 1591819201931, 'isUSMarketOpen': False}\n"
     ]
    }
   ],
   "source": [
    "os.environ[\"IEX_TOKEN\"] = \"enter key here\"\n",
    "yo = (Stock('M'))\n",
    "print(yo)\n",
    "print(yo.get_quote())"
   ]
  },
  {
   "cell_type": "code",
   "execution_count": null,
   "metadata": {},
   "outputs": [],
   "source": []
  }
 ],
 "metadata": {
  "kernelspec": {
   "display_name": "Python 3",
   "language": "python",
   "name": "python3"
  },
  "language_info": {
   "codemirror_mode": {
    "name": "ipython",
    "version": 3
   },
   "file_extension": ".py",
   "mimetype": "text/x-python",
   "name": "python",
   "nbconvert_exporter": "python",
   "pygments_lexer": "ipython3",
   "version": "3.8.1"
  }
 },
 "nbformat": 4,
 "nbformat_minor": 4
}
